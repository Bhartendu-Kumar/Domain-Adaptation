{
 "cells": [
  {
   "cell_type": "code",
   "execution_count": 1,
   "metadata": {},
   "outputs": [],
   "source": [
    "#in this script we will refactor the dataset for clsssiication tasks\n",
    "# we have 65 classes and the class labels are strings, so we will convert them to integers"
   ]
  },
  {
   "cell_type": "code",
   "execution_count": 2,
   "metadata": {},
   "outputs": [],
   "source": [
    "#the dataset is at the location: officehome"
   ]
  },
  {
   "cell_type": "code",
   "execution_count": 3,
   "metadata": {},
   "outputs": [],
   "source": [
    "#the structure of the dataset is as follows:\n",
    "#officehome\n",
    "#   |---Clipart\n",
    "#          |---Alarm_Clock\n",
    "#          |---Backpack\n",
    "#..... like this 65 folders in total in Clipart\n",
    "#then\n",
    "#   |---Real_World\n",
    "#          |---Alarm_Clock\n",
    "#          |---Backpack\n",
    "#..... like this 65 folders in total in Real_World"
   ]
  },
  {
   "cell_type": "code",
   "execution_count": 4,
   "metadata": {},
   "outputs": [],
   "source": [
    "#we have only 2 folders : Clipart and Real_World"
   ]
  },
  {
   "cell_type": "code",
   "execution_count": 5,
   "metadata": {},
   "outputs": [],
   "source": [
    "#our task is to rename the folders in Clipart and Real_World to integers from 0 to 64"
   ]
  },
  {
   "cell_type": "code",
   "execution_count": 6,
   "metadata": {},
   "outputs": [],
   "source": [
    "#dataset location is : data/officehome\n",
    "data_path = 'data/officehome/'\n"
   ]
  },
  {
   "cell_type": "code",
   "execution_count": 7,
   "metadata": {},
   "outputs": [],
   "source": [
    "#let us import necessary libraries\n",
    "import os\n",
    "import numpy as np\n",
    "import pandas as pd\n",
    "from shutil import copyfile\n",
    "from os import listdir\n",
    "from os.path import isfile, join\n",
    "#import re\n",
    "import shutil\n",
    "import glob"
   ]
  },
  {
   "cell_type": "code",
   "execution_count": 8,
   "metadata": {},
   "outputs": [],
   "source": [
    "import pickle"
   ]
  },
  {
   "cell_type": "code",
   "execution_count": 9,
   "metadata": {},
   "outputs": [
    {
     "name": "stdout",
     "output_type": "stream",
     "text": [
      "65\n",
      "['Alarm_Clock', 'Backpack', 'Batteries', 'Bed', 'Bike', 'Bottle', 'Bucket', 'Calculator', 'Calendar', 'Candles', 'Chair', 'Clipboards', 'Computer', 'Couch', 'Curtains', 'Desk_Lamp', 'Drill', 'Eraser', 'Exit_Sign', 'Fan', 'File_Cabinet', 'Flipflops', 'Flowers', 'Folder', 'Fork', 'Glasses', 'Hammer', 'Helmet', 'Kettle', 'Keyboard', 'Knives', 'Lamp_Shade', 'Laptop', 'Marker', 'Monitor', 'Mop', 'Mouse', 'Mug', 'Notebook', 'Oven', 'Pan', 'Paper_Clip', 'Pen', 'Pencil', 'Postit_Notes', 'Printer', 'Push_Pin', 'Radio', 'Refrigerator', 'Ruler', 'Scissors', 'Screwdriver', 'Shelf', 'Sink', 'Sneakers', 'Soda', 'Speaker', 'Spoon', 'TV', 'Table', 'Telephone', 'ToothBrush', 'Toys', 'Trash_Can', 'Webcam']\n"
     ]
    }
   ],
   "source": [
    "#first we will create a list of all the folders in Clipart and Real_World\n",
    "list_of_folders = [f for f in listdir(data_path+'Clipart') if not isfile(join(data_path+'Clipart', f))]\n",
    "#sort the list\n",
    "list_of_folders.sort()\n",
    "#now we have a sorted list of all the folders in Clipart\n",
    "#print(list_of_folders)\n",
    "print(len(list_of_folders))\n",
    "print(list_of_folders)\n"
   ]
  },
  {
   "cell_type": "code",
   "execution_count": 10,
   "metadata": {},
   "outputs": [
    {
     "name": "stdout",
     "output_type": "stream",
     "text": [
      "both are same\n"
     ]
    }
   ],
   "source": [
    "#get the list of folders from Real_World and check if both are same\n",
    "pseudo_list_of_folders = [f for f in listdir(data_path+'Real_World') if not isfile(join(data_path+'Real_World', f))]\n",
    "#sort\n",
    "pseudo_list_of_folders.sort()\n",
    "#check if both are same\n",
    "if(list_of_folders==pseudo_list_of_folders):\n",
    "    print('both are same')"
   ]
  },
  {
   "cell_type": "code",
   "execution_count": 11,
   "metadata": {},
   "outputs": [],
   "source": [
    "#now we save the list of folders in a pickle file\n",
    "#so that we can use it later\n",
    "\n",
    "with open(data_path+'list_of_folders.pkl', 'wb') as f:\n",
    "    pickle.dump(list_of_folders, f)"
   ]
  },
  {
   "cell_type": "code",
   "execution_count": 14,
   "metadata": {},
   "outputs": [
    {
     "data": {
      "text/plain": [
       "65"
      ]
     },
     "execution_count": 14,
     "metadata": {},
     "output_type": "execute_result"
    }
   ],
   "source": [
    "#num_classes as len(list_of_folders)\n",
    "NUM_CLASSES = len(list_of_folders)\n",
    "NUM_CLASSES"
   ]
  },
  {
   "cell_type": "code",
   "execution_count": 15,
   "metadata": {},
   "outputs": [
    {
     "name": "stdout",
     "output_type": "stream",
     "text": [
      "{'Alarm_Clock': 0, 'Backpack': 1, 'Batteries': 2, 'Bed': 3, 'Bike': 4, 'Bottle': 5, 'Bucket': 6, 'Calculator': 7, 'Calendar': 8, 'Candles': 9, 'Chair': 10, 'Clipboards': 11, 'Computer': 12, 'Couch': 13, 'Curtains': 14, 'Desk_Lamp': 15, 'Drill': 16, 'Eraser': 17, 'Exit_Sign': 18, 'Fan': 19, 'File_Cabinet': 20, 'Flipflops': 21, 'Flowers': 22, 'Folder': 23, 'Fork': 24, 'Glasses': 25, 'Hammer': 26, 'Helmet': 27, 'Kettle': 28, 'Keyboard': 29, 'Knives': 30, 'Lamp_Shade': 31, 'Laptop': 32, 'Marker': 33, 'Monitor': 34, 'Mop': 35, 'Mouse': 36, 'Mug': 37, 'Notebook': 38, 'Oven': 39, 'Pan': 40, 'Paper_Clip': 41, 'Pen': 42, 'Pencil': 43, 'Postit_Notes': 44, 'Printer': 45, 'Push_Pin': 46, 'Radio': 47, 'Refrigerator': 48, 'Ruler': 49, 'Scissors': 50, 'Screwdriver': 51, 'Shelf': 52, 'Sink': 53, 'Sneakers': 54, 'Soda': 55, 'Speaker': 56, 'Spoon': 57, 'TV': 58, 'Table': 59, 'Telephone': 60, 'ToothBrush': 61, 'Toys': 62, 'Trash_Can': 63, 'Webcam': 64}\n"
     ]
    }
   ],
   "source": [
    "#now we create a dictionary with key as the folder name and value as the integer\n",
    "dict_of_folders = {}\n",
    "for i in range(NUM_CLASSES):\n",
    "    dict_of_folders[list_of_folders[i]] = i\n",
    "print(dict_of_folders)"
   ]
  },
  {
   "cell_type": "code",
   "execution_count": 16,
   "metadata": {},
   "outputs": [],
   "source": [
    "#save dict_of_folders in a pickle file\n",
    "#so that we can use it later\n",
    "with open(data_path+'dict_of_folders.pkl', 'wb') as f:\n",
    "    pickle.dump(dict_of_folders, f)"
   ]
  },
  {
   "cell_type": "code",
   "execution_count": 17,
   "metadata": {},
   "outputs": [],
   "source": [
    "#now we rename the folders in Clipart and Real_World with the integers\n",
    "#we will do it for Clipart\n",
    "#we will iterate over each folder in Clipart and rename it with the integer\n",
    "for i in range(NUM_CLASSES):\n",
    "    #get the folder name\n",
    "    folder_name = list_of_folders[i]\n",
    "    #get the integer\n",
    "    integer = dict_of_folders[folder_name]\n",
    "    #rename the folder\n",
    "    os.rename(data_path+'Clipart/'+folder_name, data_path+'Clipart/'+str(integer))\n",
    "    "
   ]
  },
  {
   "cell_type": "code",
   "execution_count": 18,
   "metadata": {},
   "outputs": [],
   "source": [
    "#now we will do the same for Real_World\n",
    "#we will iterate over each folder in Real_World and rename it with the integer\n",
    "for i in range(NUM_CLASSES):\n",
    "    #get the folder name\n",
    "    folder_name = list_of_folders[i]\n",
    "    #get the integer\n",
    "    integer = dict_of_folders[folder_name]\n",
    "    #rename the folder\n",
    "    os.rename(data_path+'Real_World/'+folder_name, data_path+'Real_World/'+str(integer))"
   ]
  },
  {
   "cell_type": "code",
   "execution_count": null,
   "metadata": {},
   "outputs": [],
   "source": []
  }
 ],
 "metadata": {
  "kernelspec": {
   "display_name": "Python 3.8.13 ('pytorch')",
   "language": "python",
   "name": "python3"
  },
  "language_info": {
   "codemirror_mode": {
    "name": "ipython",
    "version": 3
   },
   "file_extension": ".py",
   "mimetype": "text/x-python",
   "name": "python",
   "nbconvert_exporter": "python",
   "pygments_lexer": "ipython3",
   "version": "3.8.13"
  },
  "orig_nbformat": 4,
  "vscode": {
   "interpreter": {
    "hash": "079402cc50f681fca3bc4b588c8594ae5b0127c6215ec7c89d21fdfb87f97274"
   }
  }
 },
 "nbformat": 4,
 "nbformat_minor": 2
}
